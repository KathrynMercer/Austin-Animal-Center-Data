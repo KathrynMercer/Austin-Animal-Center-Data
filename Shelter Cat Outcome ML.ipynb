{
 "cells": [
  {
   "cell_type": "code",
   "execution_count": 11,
   "metadata": {},
   "outputs": [],
   "source": [
    "import torch, numpy as np, pandas as pd\n",
    "from torch import tensor\n",
    "np.set_printoptions(linewidth=140)\n",
    "torch.set_printoptions(linewidth=140, sci_mode=False, edgeitems=7)\n",
    "pd.set_option('display.max_columns', None) \n",
    "pd.set_option('display.width', 1000)"
   ]
  },
  {
   "cell_type": "code",
   "execution_count": 12,
   "metadata": {},
   "outputs": [],
   "source": [
    "# Loading data sets\n",
    "training_data = pd.read_csv('Cats Training Data.csv')\n",
    "validation_data = pd.read_csv('Cats Validation Data.csv')\n",
    "test_data = pd.read_csv('Cats Testing Data.csv')"
   ]
  },
  {
   "cell_type": "code",
   "execution_count": 13,
   "metadata": {},
   "outputs": [],
   "source": [
    "# concatenating the training & validation set so the one hot encoding will not be different if the validation set happens to not have some of the same categories\n",
    "\n",
    "fused_data = pd.concat([training_data, validation_data], axis = 0, ignore_index = True)"
   ]
  },
  {
   "cell_type": "code",
   "execution_count": 14,
   "metadata": {},
   "outputs": [],
   "source": [
    "validation_start_index = training_data.shape[0]"
   ]
  },
  {
   "cell_type": "code",
   "execution_count": 15,
   "metadata": {},
   "outputs": [
    {
     "data": {
      "text/plain": [
       "Outcome Type                                    1\n",
       "Intake Age                              -0.542123\n",
       "Outcome Age                             -0.490138\n",
       "Duration of Stay                         1.276812\n",
       "Birth Year                               0.499208\n",
       "Birth Month                             -1.067045\n",
       "Intake Year                              0.247798\n",
       "Intake Month                             1.592974\n",
       "Outcome Year                             0.232558\n",
       "Outcome Month                            0.964325\n",
       "Sex                                        Female\n",
       "Breed                          Domestic Shorthair\n",
       "Intake Type                                 Stray\n",
       "Intake Condition                 Nursing Juvenile\n",
       "Intake Reproductive Status                 Intact\n",
       "Outcome Reproductive Status               Altered\n",
       "Breed2                               Not Provided\n",
       "Purebred?                                   False\n",
       "Coat Length                                 short\n",
       "color1                                     Calico\n",
       "color2                                Empty Color\n",
       "color3                                Empty Color\n",
       "pattern1                                   Calico\n",
       "pattern2                            Empty Pattern\n",
       "pattern3                            Empty Pattern\n",
       "Weekend Intake?                             False\n",
       "Weekend Outcome?                            False\n",
       "Name: 0, dtype: object"
      ]
     },
     "execution_count": 15,
     "metadata": {},
     "output_type": "execute_result"
    }
   ],
   "source": [
    "# Making sure that I have the index of the start of the validation data recorded correctly\n",
    "validation_data.iloc[0]"
   ]
  },
  {
   "cell_type": "code",
   "execution_count": 16,
   "metadata": {},
   "outputs": [
    {
     "data": {
      "text/plain": [
       "Outcome Type                                    1\n",
       "Intake Age                              -0.542123\n",
       "Outcome Age                             -0.490138\n",
       "Duration of Stay                         1.276812\n",
       "Birth Year                               0.499208\n",
       "Birth Month                             -1.067045\n",
       "Intake Year                              0.247798\n",
       "Intake Month                             1.592974\n",
       "Outcome Year                             0.232558\n",
       "Outcome Month                            0.964325\n",
       "Sex                                        Female\n",
       "Breed                          Domestic Shorthair\n",
       "Intake Type                                 Stray\n",
       "Intake Condition                 Nursing Juvenile\n",
       "Intake Reproductive Status                 Intact\n",
       "Outcome Reproductive Status               Altered\n",
       "Breed2                               Not Provided\n",
       "Purebred?                                   False\n",
       "Coat Length                                 short\n",
       "color1                                     Calico\n",
       "color2                                Empty Color\n",
       "color3                                Empty Color\n",
       "pattern1                                   Calico\n",
       "pattern2                            Empty Pattern\n",
       "pattern3                            Empty Pattern\n",
       "Weekend Intake?                             False\n",
       "Weekend Outcome?                            False\n",
       "Name: 53198, dtype: object"
      ]
     },
     "execution_count": 16,
     "metadata": {},
     "output_type": "execute_result"
    }
   ],
   "source": [
    "fused_data.iloc[validation_start_index]"
   ]
  },
  {
   "cell_type": "code",
   "execution_count": 17,
   "metadata": {},
   "outputs": [],
   "source": [
    "# One Hot Encoding for the catgeorical variables\n",
    "# Because there are so many, using embedding might be a good upgrade (fastai does by default w/ tabular pandas)\n",
    "\n",
    "fused_data = pd.get_dummies(fused_data, columns = \n",
    "        ['Sex', 'Breed', 'Intake Type', 'Intake Condition', 'Intake Reproductive Status', 'Outcome Reproductive Status', 'Breed2', 'Purebred?', 'Coat Length', 'color1', 'color2', 'color3', 'pattern1', 'pattern2', 'pattern3', 'Weekend Intake?', 'Weekend Outcome?'])\n",
    "\n",
    "#training_data = pd.get_dummies(training_data, columns = \n",
    "#        ['Sex', 'Breed', 'Intake Type', 'Intake Condition', 'Intake #Reproductive Status', 'Outcome Reproductive Status', 'Breed2', 'Purebred?', #'Coat Length', 'color1', 'color2', 'color3', 'pattern1', 'pattern2', #'pattern3', 'Weekend Intake?', 'Weekend Outcome?'])\n",
    "\n",
    "#validation_data = pd.get_dummies(validation_data, columns = \n",
    "#        ['Sex', 'Breed', 'Intake Type', 'Intake Condition', 'Intake #Reproductive Status', 'Outcome Reproductive Status', 'Breed2', 'Purebred?', #'Coat Length', 'color1', 'color2', 'color3', 'pattern1', 'pattern2', #'pattern3', 'Weekend Intake?', 'Weekend Outcome?'])"
   ]
  },
  {
   "cell_type": "code",
   "execution_count": 18,
   "metadata": {},
   "outputs": [
    {
     "name": "stdout",
     "output_type": "stream",
     "text": [
      "Index(['Outcome Type', 'Intake Age', 'Outcome Age', 'Duration of Stay', 'Birth Year', 'Birth Month', 'Intake Year', 'Intake Month', 'Outcome Year', 'Outcome Month',\n",
      "       ...\n",
      "       'pattern2_Tabby', 'pattern2_Tortie', 'pattern2_with White Markings', 'pattern3_Empty Pattern', 'pattern3_Tabby', 'pattern3_with White Markings', 'Weekend Intake?_False', 'Weekend Intake?_True', 'Weekend Outcome?_False', 'Weekend Outcome?_True'], dtype='object', length=146)\n"
     ]
    }
   ],
   "source": [
    "print(fused_data.columns)"
   ]
  },
  {
   "cell_type": "code",
   "execution_count": 20,
   "metadata": {},
   "outputs": [],
   "source": [
    "# Converting the dataframes to tensors (with extra dimension to allow for matrix multiplication and separating the targets from the features\n",
    "\n",
    "training_target = tensor(fused_data.iloc[0:validation_start_index-1, 0].values, dtype = torch.float)\n",
    "training_target = training_target[:,None]\n",
    "training_features = tensor(fused_data.iloc[0:validation_start_index-1, 1:].values.astype(np.float64), dtype = torch.float)\n",
    "\n",
    "validation_target = tensor(fused_data.iloc[validation_start_index:, 0].values, dtype = torch.float)\n",
    "validation_target = validation_target[:,None]\n",
    "validation_features = tensor(fused_data.iloc[validation_start_index:, 1:].values.astype(np.float64), dtype = torch.float)"
   ]
  },
  {
   "cell_type": "code",
   "execution_count": 21,
   "metadata": {},
   "outputs": [
    {
     "data": {
      "text/plain": [
       "torch.Size([53197, 1])"
      ]
     },
     "execution_count": 21,
     "metadata": {},
     "output_type": "execute_result"
    }
   ],
   "source": [
    "# Making sure the size is as expected; it is. \n",
    "training_target.shape"
   ]
  },
  {
   "cell_type": "code",
   "execution_count": 34,
   "metadata": {},
   "outputs": [],
   "source": [
    "torch.manual_seed(1004)\n",
    "\n",
    "n_coeff = training_features.shape[1]\n",
    "\n",
    "def calc_preds(coeffs, features): return torch.sigmoid(features@coeffs)\n",
    "\n",
    "def calc_loss(coeffs, features, targets): return torch.abs(calc_preds(coeffs, features)-targets).mean()\n",
    "\n",
    "def update_coeffs(coeffs, lr):\n",
    "    coeffs.sub_(coeffs.grad * lr)\n",
    "    coeffs.grad.zero_()\n",
    "\n",
    "def one_epoch(coeffs, lr):\n",
    "    loss = calc_loss(coeffs, training_features, training_target)\n",
    "    loss.backward()\n",
    "    with torch.no_grad(): update_coeffs(coeffs, lr)\n",
    "    print(f\"{loss:.3f}\", end=\"; \")\n",
    "\n",
    "def init_coeffs(): return (torch.rand(n_coeff, 1)*0.1).requires_grad_()\n",
    "\n",
    "def train_model(epochs=30, lr=0.01):\n",
    "    torch.manual_seed(442)\n",
    "    coeffs = init_coeffs()\n",
    "    for i in range(epochs): one_epoch(coeffs, lr=lr)\n",
    "    return coeffs\n",
    "\n",
    "def show_coeffs(): return dict(zip(training_data.iloc[:, 1:].columns, coeffs.requires_grad_(False)))\n",
    "\n",
    "def acc(coeffs): return (validation_target.bool()==(calc_preds(coeffs, validation_features)>0.5)).float().mean()"
   ]
  },
  {
   "cell_type": "code",
   "execution_count": 35,
   "metadata": {},
   "outputs": [
    {
     "name": "stdout",
     "output_type": "stream",
     "text": [
      "0.505; 0.501; 0.497; 0.493; 0.489; 0.485; 0.480; 0.476; 0.472; 0.468; 0.463; 0.459; 0.455; 0.451; 0.447; 0.443; 0.439; 0.435; 0.431; 0.428; 0.424; 0.421; 0.418; 0.415; 0.412; 0.409; 0.406; 0.403; 0.401; 0.398; 0.396; 0.393; 0.391; 0.389; 0.387; 0.385; 0.383; 0.381; 0.379; 0.377; 0.375; 0.373; 0.371; 0.370; 0.368; 0.366; 0.365; 0.363; 0.361; 0.360; 0.358; 0.357; 0.356; 0.354; 0.353; 0.351; 0.350; 0.349; 0.347; 0.346; 0.345; 0.344; 0.342; 0.341; 0.340; 0.339; 0.338; 0.336; 0.335; 0.334; 0.333; 0.332; 0.331; 0.330; 0.329; 0.328; 0.327; 0.326; 0.325; 0.324; 0.323; 0.322; 0.321; 0.320; 0.319; 0.318; 0.317; 0.316; 0.315; 0.314; 0.314; 0.313; 0.312; 0.311; 0.310; 0.309; 0.309; 0.308; 0.307; 0.306; 0.305; 0.304; 0.304; 0.303; 0.302; 0.301; 0.301; 0.300; 0.299; 0.298; 0.298; 0.297; 0.296; 0.296; 0.295; 0.294; 0.293; 0.293; 0.292; 0.291; 0.291; 0.290; 0.289; 0.289; 0.288; 0.287; 0.287; 0.286; 0.285; 0.285; 0.284; 0.284; 0.283; 0.282; 0.282; 0.281; 0.281; 0.280; 0.279; 0.279; 0.278; 0.278; 0.277; 0.276; 0.276; 0.275; 0.275; 0.274; 0.274; 0.273; 0.273; 0.272; 0.271; 0.271; 0.270; 0.270; 0.269; 0.269; 0.268; 0.268; 0.267; 0.267; 0.266; 0.266; 0.265; 0.265; 0.264; 0.264; 0.263; 0.263; 0.262; 0.262; 0.261; 0.261; 0.260; 0.260; 0.260; 0.259; 0.259; 0.258; 0.258; 0.257; 0.257; 0.256; 0.256; 0.255; 0.255; 0.255; 0.254; 0.254; 0.253; 0.253; 0.252; 0.252; 0.252; 0.251; 0.251; 0.250; 0.250; 0.250; 0.249; 0.249; 0.248; 0.248; 0.248; 0.247; 0.247; 0.246; 0.246; 0.246; 0.245; 0.245; 0.245; 0.244; 0.244; 0.243; 0.243; 0.243; 0.242; 0.242; 0.242; 0.241; 0.241; 0.241; 0.240; 0.240; 0.239; 0.239; 0.239; 0.238; 0.238; 0.238; 0.237; 0.237; 0.237; 0.236; 0.236; 0.236; 0.235; 0.235; 0.235; 0.234; 0.234; 0.234; 0.233; 0.233; 0.233; 0.233; 0.232; 0.232; 0.232; 0.231; 0.231; 0.231; 0.230; 0.230; 0.230; 0.229; 0.229; 0.229; 0.229; 0.228; 0.228; 0.228; 0.227; 0.227; 0.227; 0.227; 0.226; 0.226; 0.226; 0.225; 0.225; 0.225; 0.225; 0.224; 0.224; 0.224; 0.224; 0.223; 0.223; 0.223; 0.223; 0.222; 0.222; 0.222; 0.221; 0.221; 0.221; 0.221; 0.220; 0.220; 0.220; 0.220; 0.219; 0.219; 0.219; 0.219; 0.218; 0.218; 0.218; 0.218; 0.217; 0.217; 0.217; 0.217; 0.217; 0.216; 0.216; 0.216; 0.216; 0.215; 0.215; 0.215; 0.215; 0.214; 0.214; 0.214; 0.214; 0.214; 0.213; 0.213; 0.213; 0.213; 0.212; 0.212; 0.212; 0.212; 0.212; 0.211; 0.211; 0.211; 0.211; 0.210; 0.210; 0.210; 0.210; 0.210; 0.209; 0.209; 0.209; 0.209; 0.209; 0.208; 0.208; 0.208; 0.208; 0.208; 0.207; 0.207; 0.207; 0.207; 0.207; 0.206; 0.206; 0.206; 0.206; 0.206; 0.206; 0.205; 0.205; 0.205; 0.205; 0.205; 0.204; 0.204; 0.204; 0.204; 0.204; 0.203; 0.203; 0.203; 0.203; 0.203; 0.203; 0.202; 0.202; 0.202; 0.202; 0.202; 0.201; 0.201; 0.201; 0.201; 0.201; 0.201; 0.200; 0.200; 0.200; 0.200; 0.200; 0.200; 0.199; 0.199; 0.199; 0.199; 0.199; 0.199; 0.198; 0.198; 0.198; 0.198; 0.198; 0.198; 0.197; 0.197; 0.197; 0.197; 0.197; 0.197; 0.197; 0.196; 0.196; 0.196; 0.196; 0.196; 0.196; 0.195; 0.195; 0.195; 0.195; 0.195; 0.195; 0.195; 0.194; 0.194; 0.194; 0.194; 0.194; 0.194; 0.194; 0.193; 0.193; 0.193; 0.193; 0.193; 0.193; 0.193; 0.192; 0.192; 0.192; 0.192; 0.192; 0.192; 0.192; 0.191; 0.191; 0.191; 0.191; 0.191; 0.191; 0.191; 0.190; 0.190; 0.190; 0.190; 0.190; 0.190; 0.190; 0.189; 0.189; 0.189; 0.189; 0.189; 0.189; 0.189; 0.189; 0.188; 0.188; 0.188; 0.188; 0.188; 0.188; 0.188; 0.188; 0.187; 0.187; 0.187; 0.187; 0.187; 0.187; 0.187; 0.187; 0.186; 0.186; 0.186; 0.186; 0.186; 0.186; 0.186; 0.186; 0.185; 0.185; 0.185; 0.185; 0.185; 0.185; 0.185; 0.185; 0.185; "
     ]
    }
   ],
   "source": [
    "coeffs = train_model(500, lr=0.1)"
   ]
  },
  {
   "cell_type": "code",
   "execution_count": 37,
   "metadata": {},
   "outputs": [
    {
     "data": {
      "text/plain": [
       "tensor(0.8640)"
      ]
     },
     "execution_count": 37,
     "metadata": {},
     "output_type": "execute_result"
    }
   ],
   "source": [
    "acc(coeffs)"
   ]
  },
  {
   "cell_type": "code",
   "execution_count": 36,
   "metadata": {},
   "outputs": [
    {
     "data": {
      "text/plain": [
       "{'Intake Age': tensor([-0.6706]),\n",
       " 'Outcome Age': tensor([-0.5609]),\n",
       " 'Duration of Stay': tensor([1.6288]),\n",
       " 'Birth Year': tensor([0.4490]),\n",
       " 'Birth Month': tensor([-0.0660]),\n",
       " 'Intake Year': tensor([0.0392]),\n",
       " 'Intake Month': tensor([-0.0015]),\n",
       " 'Outcome Year': tensor([0.1405]),\n",
       " 'Outcome Month': tensor([-0.1923]),\n",
       " 'Sex': tensor([0.2682]),\n",
       " 'Breed': tensor([0.0081]),\n",
       " 'Intake Type': tensor([-0.2127]),\n",
       " 'Intake Condition': tensor([0.0677]),\n",
       " 'Intake Reproductive Status': tensor([0.0747]),\n",
       " 'Outcome Reproductive Status': tensor([0.0129]),\n",
       " 'Breed2': tensor([0.0501]),\n",
       " 'Purebred?': tensor([0.0318]),\n",
       " 'Coat Length': tensor([0.0268]),\n",
       " 'color1': tensor([0.0560]),\n",
       " 'color2': tensor([0.0586]),\n",
       " 'color3': tensor([0.0452]),\n",
       " 'pattern1': tensor([0.0821]),\n",
       " 'pattern2': tensor([0.0349]),\n",
       " 'pattern3': tensor([0.0250]),\n",
       " 'Weekend Intake?': tensor([0.0836]),\n",
       " 'Weekend Outcome?': tensor([0.1291])}"
      ]
     },
     "execution_count": 36,
     "metadata": {},
     "output_type": "execute_result"
    }
   ],
   "source": [
    "show_coeffs()"
   ]
  }
 ],
 "metadata": {
  "kernelspec": {
   "display_name": ".venv",
   "language": "python",
   "name": "python3"
  },
  "language_info": {
   "codemirror_mode": {
    "name": "ipython",
    "version": 3
   },
   "file_extension": ".py",
   "mimetype": "text/x-python",
   "name": "python",
   "nbconvert_exporter": "python",
   "pygments_lexer": "ipython3",
   "version": "3.12.4"
  }
 },
 "nbformat": 4,
 "nbformat_minor": 2
}
