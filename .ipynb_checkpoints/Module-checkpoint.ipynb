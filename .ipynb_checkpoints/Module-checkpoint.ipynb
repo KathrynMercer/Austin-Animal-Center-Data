{
 "cells": [
  {
   "cell_type": "code",
   "execution_count": 1,
   "id": "539e4ac4-0a7d-45d0-ba27-e6fcc3899ab0",
   "metadata": {},
   "outputs": [],
   "source": [
    "## Data Cleaning "
   ]
  },
  {
   "cell_type": "code",
   "execution_count": 3,
   "id": "ba596fe5-9833-4b22-a005-8d97eecb1131",
   "metadata": {},
   "outputs": [],
   "source": [
    "import numpy as np\n",
    "import pandas as pd\n",
    "import re"
   ]
  },
  {
   "cell_type": "code",
   "execution_count": 17,
   "id": "965188d8-a9a1-4fc8-932a-7561732db1e5",
   "metadata": {},
   "outputs": [
    {
     "name": "stdout",
     "output_type": "stream",
     "text": [
      "\"Sex upon Intake\" contained 2 null value(s)\n",
      "\"Age upon Intake\" contained 1 null value(s)\n",
      "Dropped rows due to negative ages: 13\n",
      "39 animals have no outcome recorded\n",
      "No null values identified\n"
     ]
    }
   ],
   "source": [
    "def drop_null_data(df):\n",
    "    #identifies null data in provided data frame, drops it, and reports columns in which the data were null\n",
    "\n",
    "    #generates a Series with index = df's columns, values = number of nulls per column\n",
    "    drops = df.isnull().sum()\n",
    "\n",
    "    #if there are no nulls in the df, print & return original df\n",
    "    if drops.sum() == 0:\n",
    "        print(\"No null values identified\")\n",
    "            \n",
    "    #if there are nulls in the df, drop them all and print which columns contained nulls and how many were dropped; returns df without nulls    \n",
    "    else:\n",
    "        df = df.dropna(axis = 0)\n",
    "        for index, value in drops.items():\n",
    "            if value != 0:\n",
    "                print('\"{}\" contained {} null value(s)'.format(index, value))\n",
    "    return df\n",
    "\n",
    "#Regex for age parsing\n",
    "year_pattern = re.compile(r\"(-?\\d+)\\s*(?:year|years)\")\n",
    "month_pattern = re.compile(r\"(-?\\d+)\\s*(?:month|months)\")\n",
    "week_pattern = re.compile(r\"(-?\\d+)\\s*(?:week|weeks)\")\n",
    "day_pattern = re.compile(r\"(-?\\d+)\\s*(?:day|days)\")\n",
    "\n",
    "# Function to convert age-strings to days (int)\n",
    "def convert_to_days(age_str):\n",
    "    if \"year\" in age_str:\n",
    "        value = re.search(year_pattern, age_str).group(1)\n",
    "        return int(value) * 365\n",
    "    elif \"month\" in age_str:\n",
    "        value = re.search(month_pattern, age_str).group(1)\n",
    "        return int(value) * 30 \n",
    "    elif \"week\" in age_str:\n",
    "        value = re.search(week_pattern, age_str).group(1)\n",
    "        return int(value) * 7\n",
    "    elif \"day\" in age_str:\n",
    "        value = re.search(day_pattern, age_str).group(1)\n",
    "        return int(value)\n",
    "    else:\n",
    "        print(f\"Unknown pattern: {age_str}; -1 days reported\")\n",
    "        return int(-1)\n",
    "\n",
    "#Intake\n",
    "intake_data = pd.read_csv('Austin_Animal_Center_Intakes_20240701.csv')\n",
    "\n",
    "# Dropping columns of variables not likely to be useful\n",
    "intake_data = intake_data.drop(['Name', 'DateTime', 'Found Location'], axis = 1)  \n",
    "\n",
    "# Drop null values & report from whence they came\n",
    "intake_data = drop_null_data(intake_data)\n",
    "\n",
    "# Convert age strings to days (int)\n",
    "intake_data['Age upon Intake'] = intake_data['Age upon Intake'].apply(convert_to_days)\n",
    "\n",
    "# Dropping rows with negative ages (which also includes any age strings that were not successfully parsed)\n",
    "pre = len(intake_data)\n",
    "intake_data = intake_data.loc[intake_data['Age upon Intake'] >= 0]\n",
    "post= len(intake_data)\n",
    "print(f\"Dropped rows due to negative ages: {pre - len(intake_data)}\")\n",
    "\n",
    "#Sanity check - dropping pets with \"Aged\" Intake Condition who are < 1yr old\n",
    "intake_data = intake_data[(intake_data['Intake Condition'] != 'Aged') |\n",
    "                          (intake_data['Age upon Intake'] > 365)]\n",
    "\n",
    "#Outcome Data\n",
    "outcome_data = pd.read_csv('Austin_Animal_Center_Outcomes_20240701.csv')\n",
    "#dropping columns of variables not likely to be useful\n",
    "outcome_data = outcome_data.drop(['Name', 'DateTime'], axis = 1)\n",
    "\n",
    "#Flag animals w/o recorded outcomes\n",
    "lost_to_follow_up = outcome_data.loc[outcome_data['Outcome Type'].isnull()]\n",
    "print(\"{} animals have no outcome recorded\".format(len(lost_to_follow_up)))\n",
    "\n",
    "#Fill null subtypes with \"None\"\n",
    "outcome_data = outcome_data['Outcome Subtype'].fillna('None')\n",
    "\n",
    "#drop null values & report from whence they came\n",
    "outcome_data = drop_null_data(outcome_data)\n",
    "\n"
   ]
  },
  {
   "cell_type": "code",
   "execution_count": null,
   "id": "a8570b65-ae66-43ba-93a6-0de31835ddcf",
   "metadata": {},
   "outputs": [],
   "source": []
  }
 ],
 "metadata": {
  "kernelspec": {
   "display_name": "Python 3 (ipykernel)",
   "language": "python",
   "name": "python3"
  },
  "language_info": {
   "codemirror_mode": {
    "name": "ipython",
    "version": 3
   },
   "file_extension": ".py",
   "mimetype": "text/x-python",
   "name": "python",
   "nbconvert_exporter": "python",
   "pygments_lexer": "ipython3",
   "version": "3.12.4"
  }
 },
 "nbformat": 4,
 "nbformat_minor": 5
}
